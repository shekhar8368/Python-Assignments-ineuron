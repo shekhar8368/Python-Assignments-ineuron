{
 "cells": [
  {
   "cell_type": "raw",
   "id": "a54a4afa",
   "metadata": {},
   "source": [
    "Ans-1 \n",
    "[] allows us to declare lists and its contents in programs also, it can be defined as list literals."
   ]
  },
  {
   "cell_type": "code",
   "execution_count": 15,
   "id": "2832ede1",
   "metadata": {},
   "outputs": [
    {
     "name": "stdout",
     "output_type": "stream",
     "text": [
      "[2, 4, 'hello', 6, 8, 10]\n"
     ]
    }
   ],
   "source": [
    "#Ans-2\n",
    "spam = [2,4,6,8,10]\n",
    "spam.insert(2,\"hello\")\n",
    "print(spam)"
   ]
  },
  {
   "cell_type": "code",
   "execution_count": 16,
   "id": "5b8e0fb7",
   "metadata": {},
   "outputs": [
    {
     "data": {
      "text/plain": [
       "'d'"
      ]
     },
     "execution_count": 16,
     "metadata": {},
     "output_type": "execute_result"
    }
   ],
   "source": [
    "#Ans-3\n",
    "spam = ['a','b','c','d']\n",
    "spam[int(int('3' * 2) / 11)]\n",
    "## Output is 'd'"
   ]
  },
  {
   "cell_type": "code",
   "execution_count": 23,
   "id": "112be9a8",
   "metadata": {},
   "outputs": [
    {
     "data": {
      "text/plain": [
       "'d'"
      ]
     },
     "execution_count": 23,
     "metadata": {},
     "output_type": "execute_result"
    }
   ],
   "source": [
    "#Ans-4\n",
    "spam = ['a','b','c','d']\n",
    "spam[-1]\n",
    "## Output is 'd'"
   ]
  },
  {
   "cell_type": "code",
   "execution_count": 24,
   "id": "85255938",
   "metadata": {},
   "outputs": [
    {
     "data": {
      "text/plain": [
       "['a', 'b']"
      ]
     },
     "execution_count": 24,
     "metadata": {},
     "output_type": "execute_result"
    }
   ],
   "source": [
    "#Ans-5\n",
    "spam = ['a','b','c','d']\n",
    "spam[:2]\n",
    "## Output is ['a','b']"
   ]
  },
  {
   "cell_type": "code",
   "execution_count": 25,
   "id": "079fd929",
   "metadata": {},
   "outputs": [
    {
     "data": {
      "text/plain": [
       "1"
      ]
     },
     "execution_count": 25,
     "metadata": {},
     "output_type": "execute_result"
    }
   ],
   "source": [
    "#Ans-6\n",
    "bacon = [3.14,'cat',11,'cat', True]\n",
    "bacon.index('cat')\n",
    "## Output is 1"
   ]
  },
  {
   "cell_type": "code",
   "execution_count": 35,
   "id": "fa46187b",
   "metadata": {},
   "outputs": [
    {
     "name": "stdout",
     "output_type": "stream",
     "text": [
      "[3.14, 'cat', 11, 'cat', True, 99]\n"
     ]
    }
   ],
   "source": [
    "#Ans-7\n",
    "bacon = [3.14,'cat',11,'cat', True]\n",
    "bacon.append(99)\n",
    "print(bacon)\n",
    "## Output is [3.14, 'cat', 11, 'cat', True, 99]"
   ]
  },
  {
   "cell_type": "code",
   "execution_count": 39,
   "id": "c30fb831",
   "metadata": {},
   "outputs": [
    {
     "name": "stdout",
     "output_type": "stream",
     "text": [
      "[3.14, 11, 'cat', True]\n"
     ]
    }
   ],
   "source": [
    "#Ans-8\n",
    "bacon = [3.14,'cat',11,'cat', True]\n",
    "bacon.remove('cat')\n",
    "print(bacon)\n",
    "## Output is [3.14, 11, 'cat', True]"
   ]
  },
  {
   "cell_type": "raw",
   "id": "55c7cc91",
   "metadata": {},
   "source": [
    "Ans-9 \n",
    "The list concatenation operator is '+' and list replication operator is '*'."
   ]
  },
  {
   "cell_type": "raw",
   "id": "3941b39a",
   "metadata": {},
   "source": [
    "Ans-10\n",
    "The difference between append() and insert() is that the:\n",
    "append() allows us to add an element in the list at the end of the list whereas, in insert() unlike append we can add an element at any specified index as per the need.  "
   ]
  },
  {
   "cell_type": "raw",
   "id": "ea4ac821",
   "metadata": {},
   "source": [
    "Ans-11\n",
    "Two methods which can be used to remove items from list are remove() and pop() functons."
   ]
  },
  {
   "cell_type": "raw",
   "id": "f119be03",
   "metadata": {},
   "source": [
    "Ans-12\n",
    "List values and string values are identical because both contains ordered collections or sequence of characters."
   ]
  },
  {
   "cell_type": "raw",
   "id": "c335e5c5",
   "metadata": {},
   "source": [
    "Ans-13\n",
    "The major difference between Tuples and Lists is that the tuples are immutable whereas lists are mutable."
   ]
  },
  {
   "cell_type": "raw",
   "id": "87363ba8",
   "metadata": {},
   "source": [
    "Ans-14\n",
    "a tuple value that only contains the integer 42 will be written as:\n",
    "tuple = (42,) "
   ]
  },
  {
   "cell_type": "raw",
   "id": "ed43f4c6",
   "metadata": {},
   "source": [
    "Ans-15\n",
    "We can get a list value's tuple form using tuple() function. And, tuple value's list form using list() function."
   ]
  },
  {
   "cell_type": "raw",
   "id": "879e7ce2",
   "metadata": {},
   "source": [
    "Ans-16\n",
    "Variables that contain list values are not necessarily lists themselves. Instead, they contain integers and strings."
   ]
  },
  {
   "cell_type": "raw",
   "id": "4dd03e0a",
   "metadata": {},
   "source": [
    "Ans-17\n",
    "Difference between copy.copy() and copy.deepcopy() is:\n",
    "copy.copy() does shallow copy and copy.deepcopy() does deep copy.\n",
    "Shallow copy: Shallow copy means it creates a new object and copies the element but does not create a new object  for nested list.\n",
    "Deep copy : deep copy creates a new object for main and nested lists both."
   ]
  }
 ],
 "metadata": {
  "kernelspec": {
   "display_name": "Python 3 (ipykernel)",
   "language": "python",
   "name": "python3"
  },
  "language_info": {
   "codemirror_mode": {
    "name": "ipython",
    "version": 3
   },
   "file_extension": ".py",
   "mimetype": "text/x-python",
   "name": "python",
   "nbconvert_exporter": "python",
   "pygments_lexer": "ipython3",
   "version": "3.9.12"
  }
 },
 "nbformat": 4,
 "nbformat_minor": 5
}
