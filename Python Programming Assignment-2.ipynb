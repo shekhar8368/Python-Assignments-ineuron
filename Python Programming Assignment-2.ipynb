{
 "cells": [
  {
   "cell_type": "code",
   "execution_count": 7,
   "id": "ca64db05",
   "metadata": {},
   "outputs": [
    {
     "name": "stdout",
     "output_type": "stream",
     "text": [
      "Distance in kilometer= 5.6\n",
      "Distance in Miles= 3.479672\n"
     ]
    }
   ],
   "source": [
    "#Ans-1 Converting KM into Miles (1 kilometer (km) = 0.62137 miles (mi))\n",
    "km= float(input('Distance in kilometer= '))\n",
    "miles= km*0.62137\n",
    "print(\"Distance in Miles=\", miles)\n",
    "\n"
   ]
  },
  {
   "cell_type": "code",
   "execution_count": 9,
   "id": "218465bf",
   "metadata": {},
   "outputs": [
    {
     "name": "stdout",
     "output_type": "stream",
     "text": [
      "Temperature in celsius= 33.3\n",
      "Temperature in Fahrenheit=  91.94\n"
     ]
    }
   ],
   "source": [
    "#Ans-2 Converting Celsius into Fahrenheit (0°C × 9/5) + 32 = 32°F\n",
    "Temp_celsius= float(input('Temperature in celsius= '))\n",
    "Temp_Fah= (Temp_celsius * 9/5) + 32\n",
    "print(\"Temperature in Fahrenheit= \",Temp_Fah)"
   ]
  },
  {
   "cell_type": "code",
   "execution_count": 28,
   "id": "950dddba",
   "metadata": {},
   "outputs": [
    {
     "name": "stdout",
     "output_type": "stream",
     "text": [
      "Year: 2022\n",
      "Month: 10\n",
      "    October 2022\n",
      "Mo Tu We Th Fr Sa Su\n",
      "                1  2\n",
      " 3  4  5  6  7  8  9\n",
      "10 11 12 13 14 15 16\n",
      "17 18 19 20 21 22 23\n",
      "24 25 26 27 28 29 30\n",
      "31\n",
      "\n"
     ]
    }
   ],
   "source": [
    "#Ans-4# Program to display calendar of the given month and year\n",
    "import calendar\n",
    "Year= int(input(\"Year: \"))\n",
    "Month= int(input(\"Month: \"))\n",
    "print(calendar.month(Year,Month))"
   ]
  },
  {
   "cell_type": "code",
   "execution_count": 33,
   "id": "763d6813",
   "metadata": {},
   "outputs": [
    {
     "name": "stdout",
     "output_type": "stream",
     "text": [
      "a= 2\n",
      "b= 5\n",
      "c= 4.1\n",
      "Values of 'x' are (-1.25+0.6982120021884469j),(-1.25-0.6982120021884469j)\n"
     ]
    }
   ],
   "source": [
    "#Ans-4 Solving a quadratic equation\n",
    "a= float(input(\"a= \"))\n",
    "b= float(input(\"b= \"))\n",
    "c= float(input(\"c= \"))\n",
    "x1= (-b + (b ** 2 - 4 * a * c) ** 0.5) / (2 * a)\n",
    "x2= (-b - (b**2 -4*a*c)**0.5)/(2*a)\n",
    "print(f\"Values of 'x' are {x1},{x2}\")"
   ]
  },
  {
   "cell_type": "code",
   "execution_count": 13,
   "id": "10e93212",
   "metadata": {},
   "outputs": [
    {
     "name": "stdout",
     "output_type": "stream",
     "text": [
      "after swapping aariable 'a' contains= Shekhar\n",
      "after swapping variable 'b' contains= 57\n"
     ]
    }
   ],
   "source": [
    "#Ans-5\n",
    "a= 57\n",
    "b= \"Shekhar\"\n",
    "a,b=b,a\n",
    "print(f\"\"\"after swapping aariable 'a' contains= {a}\n",
    "after swapping variable 'b' contains= {b}\"\"\")"
   ]
  },
  {
   "cell_type": "code",
   "execution_count": null,
   "id": "acaef26f",
   "metadata": {},
   "outputs": [],
   "source": []
  }
 ],
 "metadata": {
  "kernelspec": {
   "display_name": "Python 3 (ipykernel)",
   "language": "python",
   "name": "python3"
  },
  "language_info": {
   "codemirror_mode": {
    "name": "ipython",
    "version": 3
   },
   "file_extension": ".py",
   "mimetype": "text/x-python",
   "name": "python",
   "nbconvert_exporter": "python",
   "pygments_lexer": "ipython3",
   "version": "3.9.12"
  }
 },
 "nbformat": 4,
 "nbformat_minor": 5
}
