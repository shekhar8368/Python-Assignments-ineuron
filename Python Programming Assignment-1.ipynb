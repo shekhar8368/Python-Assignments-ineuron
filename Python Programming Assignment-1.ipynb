{
 "cells": [
  {
   "cell_type": "code",
   "execution_count": 1,
   "id": "9e307ea1",
   "metadata": {},
   "outputs": [
    {
     "name": "stdout",
     "output_type": "stream",
     "text": [
      "Hello Python\n"
     ]
    }
   ],
   "source": [
    "#Ans-1\n",
    "print(\"Hello Python\")"
   ]
  },
  {
   "cell_type": "code",
   "execution_count": 2,
   "id": "c3f9cbc7",
   "metadata": {},
   "outputs": [
    {
     "name": "stdout",
     "output_type": "stream",
     "text": [
      "value of x 95\n",
      "value of y 89\n",
      "Sum of x&y is 184, \n",
      "Difference between x&z is 6, \n",
      "Multiplication of x&y is 8455,\n",
      "Division of x&y is 1.0674157303370786 \n"
     ]
    }
   ],
   "source": [
    "#Ans-2\n",
    "x= int(input(\"value of x \"))\n",
    "y= int(input(\"value of y \"))\n",
    "print(f\"\"\"Sum of x&y is {x+y}, \n",
    "Difference between x&z is {x-y}, \n",
    "Multiplication of x&y is {x*y},\n",
    "Division of x&y is {x/y} \"\"\")"
   ]
  },
  {
   "cell_type": "code",
   "execution_count": 3,
   "id": "ad385ddf",
   "metadata": {},
   "outputs": [
    {
     "name": "stdout",
     "output_type": "stream",
     "text": [
      "Base of the triangle in cm 9\n",
      "Height of the triangle in cm 10\n",
      "Area of the triangle= 45.0\n"
     ]
    }
   ],
   "source": [
    "#Ans-3 Area of triangle\n",
    "b= int(input(\"Base of the triangle in cm \"))\n",
    "h= int(input(\"Height of the triangle in cm \"))\n",
    "print(f\"Area of the triangle= {0.5*b*h}\")"
   ]
  },
  {
   "cell_type": "code",
   "execution_count": 21,
   "id": "04faa708",
   "metadata": {},
   "outputs": [
    {
     "name": "stdout",
     "output_type": "stream",
     "text": [
      "value of a after swapping= 8, value of a after swapping= 5\n"
     ]
    }
   ],
   "source": [
    "#Ans- 4\n",
    "a=5\n",
    "g=8\n",
    "a,g=g,a\n",
    "print(f\"value of a after swapping= {a}, value of a after swapping= {g}\")\n"
   ]
  },
  {
   "cell_type": "code",
   "execution_count": 24,
   "id": "65692de1",
   "metadata": {},
   "outputs": [
    {
     "name": "stdout",
     "output_type": "stream",
     "text": [
      "8\n"
     ]
    }
   ],
   "source": [
    "#Ans-5\n",
    "import random\n",
    "print(random.randint(2,9))"
   ]
  },
  {
   "cell_type": "code",
   "execution_count": null,
   "id": "a72a21ff",
   "metadata": {},
   "outputs": [],
   "source": []
  },
  {
   "cell_type": "code",
   "execution_count": null,
   "id": "ec2cb6f9",
   "metadata": {},
   "outputs": [],
   "source": []
  }
 ],
 "metadata": {
  "kernelspec": {
   "display_name": "Python 3 (ipykernel)",
   "language": "python",
   "name": "python3"
  },
  "language_info": {
   "codemirror_mode": {
    "name": "ipython",
    "version": 3
   },
   "file_extension": ".py",
   "mimetype": "text/x-python",
   "name": "python",
   "nbconvert_exporter": "python",
   "pygments_lexer": "ipython3",
   "version": "3.9.12"
  }
 },
 "nbformat": 4,
 "nbformat_minor": 5
}
