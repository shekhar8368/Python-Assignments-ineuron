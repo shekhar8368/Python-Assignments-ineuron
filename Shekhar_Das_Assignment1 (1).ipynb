{
 "cells": [
  {
   "cell_type": "raw",
   "id": "737b1e26",
   "metadata": {},
   "source": [
    "Ans-1\n",
    "\n",
    "* is an expression\n",
    "hello is a value\n",
    "-87.8 is a value\n",
    "- is an expression\n",
    "/ is an expression\n",
    "+ is an expression\n",
    "6 is a value\n"
   ]
  },
  {
   "cell_type": "raw",
   "id": "958b7e97",
   "metadata": {},
   "source": [
    "Ans-2 \n",
    "Difference between String and Variable\n",
    "\n",
    "String - It is a data type and an information.And, it is a type of value which can be stored in variables.\n",
    "Variables - It carries a value or information with it which can be changed as per needs. It can also be seen as a container in which we can store different values."
   ]
  },
  {
   "cell_type": "raw",
   "id": "591d252e",
   "metadata": {},
   "source": [
    "Ans-3 \n",
    "Three different data types are:\n",
    "1. Integer datatype : Integer datatype is positive and negative whole numbers including zero but without fractional part or decimal points.\n",
    "2. Float datatype : Float datatype is  a real numbers  with a decimal point dividing the integer and fractional parts.\n",
    "3. String datatype : String datatype is an array data structure of bytes (or words) that stores a sequence of elements, typically characters, using some character encoding. "
   ]
  },
  {
   "cell_type": "raw",
   "id": "aa9f9c3b",
   "metadata": {},
   "source": [
    "Ans-4 \n",
    "An expression made up of operators and operands. Expressions are used to combined and interpreted operators and operands by the compiler to create a new value."
   ]
  },
  {
   "cell_type": "raw",
   "id": "4ec8b6fe",
   "metadata": {},
   "source": [
    "Ans-5\n",
    "An expression will return a new value after execution whereas, a statement will standalone as the same and will not give you any new value."
   ]
  },
  {
   "cell_type": "code",
   "execution_count": 1,
   "id": "f9c629f0",
   "metadata": {},
   "outputs": [
    {
     "data": {
      "text/plain": [
       "23"
      ]
     },
     "execution_count": 1,
     "metadata": {},
     "output_type": "execute_result"
    }
   ],
   "source": [
    "#Ans-6\n",
    "bacon = 22\n",
    "bacon + 1\n",
    "#Now, bacon will contain 23 as its value.\n"
   ]
  },
  {
   "cell_type": "code",
   "execution_count": 2,
   "id": "f72bf432",
   "metadata": {},
   "outputs": [
    {
     "name": "stdout",
     "output_type": "stream",
     "text": [
      "spamspamspam\n",
      "spamspamspam\n"
     ]
    }
   ],
   "source": [
    "#Ans-7\n",
    "A= \"spam\" + \"spamspam\"\n",
    "print(A)\n",
    "B= \"spam\" * 3\n",
    "print(B)\n",
    "#Output would be like :\n",
    "##spamspamspam\n",
    "##spamspamspam\n"
   ]
  },
  {
   "cell_type": "raw",
   "id": "57242486",
   "metadata": {},
   "source": [
    "Ans-8\n",
    "Eggs can be a variable because it is a alphabatical value whereas, 100 cannot be a variable because it is a numeric value"
   ]
  },
  {
   "cell_type": "raw",
   "id": "5478cef4",
   "metadata": {},
   "source": [
    "Ans-9\n",
    "Functons to get :\n",
    "integer is int()\n",
    "float is float()\n",
    "string is str()"
   ]
  },
  {
   "cell_type": "markdown",
   "id": "55d64aff",
   "metadata": {},
   "source": [
    "# Ans-10"
   ]
  },
  {
   "cell_type": "code",
   "execution_count": 4,
   "id": "23ea5bd7",
   "metadata": {},
   "outputs": [
    {
     "ename": "TypeError",
     "evalue": "can only concatenate str (not \"int\") to str",
     "output_type": "error",
     "traceback": [
      "\u001b[1;31m---------------------------------------------------------------------------\u001b[0m",
      "\u001b[1;31mTypeError\u001b[0m                                 Traceback (most recent call last)",
      "Input \u001b[1;32mIn [4]\u001b[0m, in \u001b[0;36m<cell line: 2>\u001b[1;34m()\u001b[0m\n\u001b[0;32m      1\u001b[0m \u001b[38;5;66;03m#Ans-10\u001b[39;00m\n\u001b[1;32m----> 2\u001b[0m A\u001b[38;5;241m=\u001b[39m \u001b[38;5;124;43m\"\u001b[39;49m\u001b[38;5;124;43mI have eaten\u001b[39;49m\u001b[38;5;124;43m\"\u001b[39;49m\u001b[43m \u001b[49m\u001b[38;5;241;43m+\u001b[39;49m\u001b[43m \u001b[49m\u001b[38;5;241;43m99\u001b[39;49m \u001b[38;5;241m+\u001b[39m\u001b[38;5;124m\"\u001b[39m\u001b[38;5;124mburritos.\u001b[39m\u001b[38;5;124m\"\u001b[39m\n\u001b[0;32m      3\u001b[0m \u001b[38;5;28mprint\u001b[39m(A)\n\u001b[0;32m      4\u001b[0m \u001b[38;5;66;03m#It cannot be executed because string can't be concatenated with an integer. Hence we will convert the integer into string\u001b[39;00m\n",
      "\u001b[1;31mTypeError\u001b[0m: can only concatenate str (not \"int\") to str"
     ]
    }
   ],
   "source": [
    "A= \"I have eaten\" + 99 +\"burritos.\"\n",
    "print(A)"
   ]
  },
  {
   "cell_type": "code",
   "execution_count": 6,
   "id": "eb607255",
   "metadata": {},
   "outputs": [
    {
     "name": "stdout",
     "output_type": "stream",
     "text": [
      "I have eaten 99 burritos.\n"
     ]
    }
   ],
   "source": [
    "#It cannot be executed because string can't be concatenated with an integer. Hence we will convert the integer into string\n",
    "B= \"I have eaten \" + str(99) +\" burritos.\"\n",
    "print(B)"
   ]
  },
  {
   "cell_type": "code",
   "execution_count": null,
   "id": "ba5b55c6",
   "metadata": {},
   "outputs": [],
   "source": []
  }
 ],
 "metadata": {
  "kernelspec": {
   "display_name": "Python 3 (ipykernel)",
   "language": "python",
   "name": "python3"
  },
  "language_info": {
   "codemirror_mode": {
    "name": "ipython",
    "version": 3
   },
   "file_extension": ".py",
   "mimetype": "text/x-python",
   "name": "python",
   "nbconvert_exporter": "python",
   "pygments_lexer": "ipython3",
   "version": "3.9.12"
  }
 },
 "nbformat": 4,
 "nbformat_minor": 5
}
