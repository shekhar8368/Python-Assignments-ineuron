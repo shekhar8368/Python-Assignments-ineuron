{
 "cells": [
  {
   "cell_type": "raw",
   "id": "737b1e26",
   "metadata": {},
   "source": [
    "Ans-1\n",
    "\n",
    "* is an expression\n",
    "&#39;hello&#39; is a value\n",
    "-87.8 is a value\n",
    "- is an expression\n",
    "/ is an expression\n",
    "+ is an expression\n",
    "6 is a value\n",
    "\n",
    "\n"
   ]
  },
  {
   "cell_type": "raw",
   "id": "958b7e97",
   "metadata": {},
   "source": [
    "Ans-2 \n",
    "Difference between String and Variable\n",
    "\n",
    "String - It is a data type and an information.And, it is a type of value which can be stored in variables.\n",
    "Variables - It carries a value or information with it which can be changed as per needs. It can also be seen as a container in which we can store different values."
   ]
  },
  {
   "cell_type": "raw",
   "id": "591d252e",
   "metadata": {},
   "source": [
    "Ans-3 \n",
    "Three different data types are:\n",
    "1. Integer datatype : Integer datatype is positive and negative whole numbers including zero but without fractional part or decimal points.\n",
    "2. Float datatype : Float datatype is  a real numbers  with a decimal point dividing the integer and fractional parts.\n",
    "3. String datatype : String datatype is an array data structure of bytes (or words) that stores a sequence of elements, typically characters, using some character encoding. "
   ]
  },
  {
   "cell_type": "raw",
   "id": "aa9f9c3b",
   "metadata": {},
   "source": [
    "Ans-4 \n",
    "An expression made up of operators and operands. Expressions are used to combined and interpreted operators and operands by the compiler to create a new value."
   ]
  },
  {
   "cell_type": "raw",
   "id": "4ec8b6fe",
   "metadata": {},
   "source": [
    "Ans-5\n",
    "An expression will return a new value after execution whereas, a statement will standalone as the same and will not give you any new value."
   ]
  },
  {
   "cell_type": "code",
   "execution_count": 1,
   "id": "f9c629f0",
   "metadata": {},
   "outputs": [
    {
     "data": {
      "text/plain": [
       "23"
      ]
     },
     "execution_count": 1,
     "metadata": {},
     "output_type": "execute_result"
    }
   ],
   "source": [
    "#Ans-6\n",
    "bacon = 22\n",
    "bacon + 1\n",
    "#Now, bacon will contain 23 as its value.\n"
   ]
  },
  {
   "cell_type": "code",
   "execution_count": 3,
   "id": "f72bf432",
   "metadata": {},
   "outputs": [
    {
     "name": "stdout",
     "output_type": "stream",
     "text": [
      "&#39;spam&#39;&#39;spamspam&#39;\n",
      "&#39;spam&#39;&#39;spam&#39;&#39;spam&#39;\n"
     ]
    }
   ],
   "source": [
    "#Ans-7\n",
    "A= \"&#39;spam&#39;\" + \"&#39;spamspam&#39;\"\n",
    "print(A)\n",
    "B= \"&#39;spam&#39;\" * 3\n",
    "print(B)\n",
    "#Output would be like : &#39;spam&#39;&#39;spamspam&#39;\n",
    "&#39;spam&#39;&#39;spam&#39;&#39;spam&#39;"
   ]
  },
  {
   "cell_type": "code",
   "execution_count": null,
   "id": "a8fd830b",
   "metadata": {},
   "outputs": [],
   "source": []
  }
 ],
 "metadata": {
  "kernelspec": {
   "display_name": "Python 3 (ipykernel)",
   "language": "python",
   "name": "python3"
  },
  "language_info": {
   "codemirror_mode": {
    "name": "ipython",
    "version": 3
   },
   "file_extension": ".py",
   "mimetype": "text/x-python",
   "name": "python",
   "nbconvert_exporter": "python",
   "pygments_lexer": "ipython3",
   "version": "3.9.12"
  }
 },
 "nbformat": 4,
 "nbformat_minor": 5
}
