{
 "cells": [
  {
   "cell_type": "code",
   "execution_count": 14,
   "id": "1fbceef9",
   "metadata": {},
   "outputs": [
    {
     "name": "stdout",
     "output_type": "stream",
     "text": [
      "Enter the number to find factorial 5\n",
      "Factorial of the entered value is:  120\n"
     ]
    }
   ],
   "source": [
    "#Ans-1 Factorial\n",
    "a = int(input(\"Enter the number to find factorial \" ))\n",
    "\n",
    "Factorial=1\n",
    "\n",
    "if a>=1:\n",
    "    for i in range(1, a+1):\n",
    "        Factorial = Factorial*i\n",
    "    print(\"Factorial of the entered value is: \", Factorial)\n",
    "    \n",
    "elif a==0 :\n",
    "    print(\"Factorial of 0 is 1\")\n",
    "    \n",
    "else:\n",
    "    print(\"Factorial is not possible for negative value.\")\n",
    "\n",
    "    "
   ]
  },
  {
   "cell_type": "code",
   "execution_count": 22,
   "id": "f9fc2e1b",
   "metadata": {},
   "outputs": [
    {
     "name": "stdout",
     "output_type": "stream",
     "text": [
      "Enter the value for Multiplication table: 78\n",
      "78 x 1 = 78\n",
      "78 x 2 = 156\n",
      "78 x 3 = 234\n",
      "78 x 4 = 312\n",
      "78 x 5 = 390\n",
      "78 x 6 = 468\n",
      "78 x 7 = 546\n",
      "78 x 8 = 624\n",
      "78 x 9 = 702\n",
      "78 x 10 = 780\n"
     ]
    }
   ],
   "source": [
    "#Ans-2 Multiplication table\n",
    "x = int(input(\"Enter the value for Multiplication table: \"))\n",
    "\n",
    "for i in range(1,11):\n",
    "    y = x*i\n",
    "    print(f\"{x} x {i} = {y}\")"
   ]
  },
  {
   "cell_type": "code",
   "execution_count": 36,
   "id": "af8b9913",
   "metadata": {},
   "outputs": [
    {
     "name": "stdout",
     "output_type": "stream",
     "text": [
      "Enter the number of terms you want in the sequence: -2\n",
      "Enter a number greater than 0\n"
     ]
    }
   ],
   "source": [
    "#Ans-3 Fibnocci's sequence \n",
    "z = int(input(\"Enter the number of terms you want in the sequence: \"))\n",
    "\n",
    "count = 0\n",
    "x = 0\n",
    "y = 1\n",
    "\n",
    "if z>0 :\n",
    "    while count < z :\n",
    "        print(x)\n",
    "        a =  x+y\n",
    "        x = y\n",
    "        y = a\n",
    "        count = count+1\n",
    "else:\n",
    "    print(\"Enter a number greater than 0\")\n",
    "\n"
   ]
  },
  {
   "cell_type": "code",
   "execution_count": 38,
   "id": "c839e142",
   "metadata": {},
   "outputs": [
    {
     "name": "stdout",
     "output_type": "stream",
     "text": [
      "Enter the number to be checked: 15\n",
      "15 is not an Armstrong number\n"
     ]
    }
   ],
   "source": [
    "#Ans-4 Check whether the entered value is an Armstrong number or not.\n",
    "\n",
    "a = int(input(\"Enter the number to be checked: \"))\n",
    "sum = 0\n",
    "temp = a\n",
    "while temp > 0:\n",
    "   digit = temp % 10\n",
    "   sum += digit ** 3\n",
    "   temp //= 10\n",
    "if a == sum:\n",
    "   print(a,\"is an Armstrong number\")\n",
    "else:\n",
    "   print(a,\"is not an Armstrong number\")"
   ]
  },
  {
   "cell_type": "code",
   "execution_count": 46,
   "id": "51261e7d",
   "metadata": {},
   "outputs": [
    {
     "name": "stdout",
     "output_type": "stream",
     "text": [
      "Enter the lower limit of the interval: 100\n",
      "Enter the upper limit of the interval: 2000\n",
      "153\n",
      "370\n",
      "371\n",
      "407\n",
      "1634\n"
     ]
    }
   ],
   "source": [
    "#Ans-5 Finding Armstrong in an interval\n",
    "lower = int(input(\"Enter the lower limit of the interval: \"))\n",
    "upper = int(input(\"Enter the upper limit of the interval: \"))\n",
    "\n",
    "for num in range(lower, upper + 1):\n",
    "\n",
    "   order = len(str(num))\n",
    "   sum = 0\n",
    "\n",
    "   temp = num\n",
    "   while temp > 0:\n",
    "       digit = temp % 10\n",
    "       sum += digit ** order\n",
    "       temp //= 10\n",
    "\n",
    "   if num == sum:\n",
    "       print(num)"
   ]
  },
  {
   "cell_type": "code",
   "execution_count": 4,
   "id": "549bb151",
   "metadata": {},
   "outputs": [
    {
     "name": "stdout",
     "output_type": "stream",
     "text": [
      "Enter the number: 57\n",
      "The sum of natural numbers is 1653\n"
     ]
    }
   ],
   "source": [
    "#Ans-6 the Sum of Natural Numbers.\n",
    "n = int(input(\"Enter the number: \"))\n",
    "\n",
    "if n < 0:\n",
    "   print(\"Enter a positive number\")\n",
    "else:\n",
    "   x = 0\n",
    "   while(n > 0):\n",
    "       x += n\n",
    "       n -= 1\n",
    "   print(\"The sum of natural numbers is\", x)"
   ]
  },
  {
   "cell_type": "code",
   "execution_count": null,
   "id": "8651cd9e",
   "metadata": {},
   "outputs": [],
   "source": []
  }
 ],
 "metadata": {
  "kernelspec": {
   "display_name": "Python 3 (ipykernel)",
   "language": "python",
   "name": "python3"
  },
  "language_info": {
   "codemirror_mode": {
    "name": "ipython",
    "version": 3
   },
   "file_extension": ".py",
   "mimetype": "text/x-python",
   "name": "python",
   "nbconvert_exporter": "python",
   "pygments_lexer": "ipython3",
   "version": "3.9.12"
  }
 },
 "nbformat": 4,
 "nbformat_minor": 5
}
